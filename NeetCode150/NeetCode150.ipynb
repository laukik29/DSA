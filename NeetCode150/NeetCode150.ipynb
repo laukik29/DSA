{
 "cells": [
  {
   "cell_type": "markdown",
   "metadata": {},
   "source": [
    "Contains Duplicate\n",
    "Solved \n",
    "Given an integer array nums, return true if any value appears more than once in the array, otherwise return false.\n",
    "\n",
    "Example 1:\n",
    "\n",
    "Input: nums = [1, 2, 3, 3]\n",
    "\n",
    "Output: true"
   ]
  },
  {
   "cell_type": "code",
   "execution_count": null,
   "metadata": {},
   "outputs": [],
   "source": [
    "class Solution:\n",
    "    def hasDuplicate(self, nums: List[int]) -> bool:\n",
    "        # for i in range(0,len(nums)):\n",
    "        #     for j in range(i+1,len(nums)):\n",
    "        #         if nums[i]==nums[j]:\n",
    "        #             return True\n",
    "            \n",
    "        # return False    \n",
    "\n",
    "        seen = set()\n",
    "        for i in nums:\n",
    "            print(i)\n",
    "            if i in seen:\n",
    "                return True\n",
    "            seen.add(i)\n",
    "        return False"
   ]
  },
  {
   "cell_type": "markdown",
   "metadata": {},
   "source": [
    "Valid Anagram\n",
    "Solved \n",
    "Given two strings s and t, return true if the two strings are anagrams of each other, otherwise return false.\n",
    "\n",
    "An anagram is a string that contains the exact same characters as another string, but the order of the characters can be different.\n",
    "\n",
    "Example 1:\n",
    "\n",
    "Input: s = \"racecar\", t = \"carrace\"\n",
    "\n",
    "Output: true"
   ]
  },
  {
   "cell_type": "code",
   "execution_count": null,
   "metadata": {},
   "outputs": [],
   "source": [
    "class Solution:\n",
    "    def isAnagram(self, s: str, t: str) -> bool:\n",
    "        # if len(s)!=len(t):\n",
    "        #     return False\n",
    "\n",
    "        # return sorted(s) == sorted(t)   \n",
    "\n",
    "        if len(s)!=len(t):\n",
    "            return False\n",
    "\n",
    "        countS, countT = {},{}\n",
    "\n",
    "        for i in range(len(s)):\n",
    "            countS[s[i]] = 1+ countS.get(s[i],0)\n",
    "             countT[t[i]] = 1+ countT.get(t[i],0)            \n",
    "        return countS==countT"
   ]
  },
  {
   "cell_type": "markdown",
   "metadata": {},
   "source": [
    "Two Sum\n",
    "Solved \n",
    "Given an array of integers nums and an integer target, return the indices i and j such that nums[i] + nums[j] == target and i != j.\n",
    "\n",
    "You may assume that every input has exactly one pair of indices i and j that satisfy the condition.\n",
    "\n",
    "Return the answer with the smaller index first.\n",
    "\n",
    "Example 1:\n",
    "\n",
    "Input: \n",
    "nums = [3,4,5,6], target = 7\n",
    "\n",
    "Output: [0,1]"
   ]
  },
  {
   "cell_type": "code",
   "execution_count": null,
   "metadata": {},
   "outputs": [],
   "source": [
    "class Solution:\n",
    "    def twoSum(self, nums: List[int], target: int) -> List[int]:\n",
    "        for i in range (len(nums)):\n",
    "            for j in range(i+1,len(nums)):\n",
    "                    if nums[i]+nums[j] == target:\n",
    "                        return [i,j]\n",
    "                "
   ]
  },
  {
   "cell_type": "markdown",
   "metadata": {},
   "source": [
    "Group Anagrams\n",
    "Solved \n",
    "Given an array of strings strs, group all anagrams together into sublists. You may return the output in any order.\n",
    "\n",
    "An anagram is a string that contains the exact same characters as another string, but the order of the characters can be different.\n",
    "\n",
    "Example 1:\n",
    "\n",
    "Input: strs = [\"act\",\"pots\",\"tops\",\"cat\",\"stop\",\"hat\"]\n",
    "\n",
    "Output: [[\"hat\"],[\"act\", \"cat\"],[\"stop\", \"pots\", \"tops\"]]"
   ]
  },
  {
   "cell_type": "code",
   "execution_count": null,
   "metadata": {},
   "outputs": [],
   "source": [
    "class Solution:\n",
    "    def groupAnagrams(self, strs: List[str]) -> List[List[str]]:\n",
    "        res = defaultdict(list)\n",
    "        for s in strs:\n",
    "            sortedS = ''.join(sorted(s))\n",
    "            print(sortedS)\n",
    "            res[sortedS].append(s)\n",
    "            print(res)\n",
    "        return list(res.values())        \n",
    "        \n"
   ]
  },
  {
   "cell_type": "markdown",
   "metadata": {},
   "source": [
    "Top K Frequent Elements\n",
    "Solved \n",
    "Given an integer array nums and an integer k, return the k most frequent elements within the array.\n",
    "\n",
    "The test cases are generated such that the answer is always unique.\n",
    "\n",
    "You may return the output in any order.\n",
    "\n",
    "Example 1:\n",
    "\n",
    "Input: nums = [1,2,2,3,3,3], k = 2\n",
    "\n",
    "Output: [2,3]"
   ]
  },
  {
   "cell_type": "code",
   "execution_count": null,
   "metadata": {},
   "outputs": [],
   "source": [
    "class Solution:\n",
    "    def topKFrequent(self, nums: List[int], k: int) -> List[int]:\n",
    "        count = {}\n",
    "        freq = [[] for i in range(len(nums)+1)]\n",
    "\n",
    "        for n in nums:\n",
    "            count[n] = 1+ count.get(n,0)\n",
    "        \n",
    "        for n,c in count.items():\n",
    "            freq[c].append(n)\n",
    "        \n",
    "        res = []\n",
    "        for i in range(len(freq)-1,0,-1):\n",
    "            for n in freq[i]:\n",
    "                res.append(n)\n",
    "                if len(res) == k:\n",
    "                    return res\n"
   ]
  },
  {
   "cell_type": "markdown",
   "metadata": {},
   "source": [
    "Products of Array Except Self\n",
    "Solved \n",
    "Given an integer array nums, return an array output where output[i] is the product of all the elements of nums except nums[i].\n",
    "\n",
    "Each product is guaranteed to fit in a 32-bit integer.\n",
    "\n",
    "Follow-up: Could you solve it in \n",
    "O\n",
    "(\n",
    "n\n",
    ")\n",
    "O(n) time without using the division operation?\n",
    "\n",
    "Example 1:\n",
    "\n",
    "Input: nums = [1,2,4,6]\n",
    "\n",
    "Output: [48,24,12,8]"
   ]
  },
  {
   "cell_type": "code",
   "execution_count": null,
   "metadata": {},
   "outputs": [],
   "source": [
    "class Solution:\n",
    "    def productExceptSelf(self, nums: List[int]) -> List[int]:\n",
    "        # n = len(nums)\n",
    "        # res = [0]*n\n",
    "        # for i in range(n):\n",
    "        #     prod = 1\n",
    "        #     for j in range(n):\n",
    "        #         if i ==j:\n",
    "        #             continue;\n",
    "        #         prod *= nums[j]\n",
    "        #     res[i]=prod\n",
    "        # return res    \n",
    "\n",
    "        # optimal solution \n",
    "        res = [1]* len(nums) \n",
    "\n",
    "        prefix = 1\n",
    "        for i in range(len(nums)):\n",
    "            res[i]=prefix\n",
    "            prefix *= nums[i]\n",
    "        postfix =1 \n",
    "        for i in range(len(nums)-1,-1,-1):\n",
    "            res[i] *= postfix\n",
    "            postfix *= nums[i]\n",
    "\n",
    "        return res           "
   ]
  },
  {
   "cell_type": "markdown",
   "metadata": {},
   "source": [
    "Valid Palindrome\n",
    "Solved \n",
    "Given a string s, return true if it is a palindrome, otherwise return false.\n",
    "\n",
    "A palindrome is a string that reads the same forward and backward. It is also case-insensitive and ignores all non-alphanumeric characters.\n",
    "\n",
    "Example 1:\n",
    "\n",
    "Input: s = \"Was it a car or a cat I saw?\"\n",
    "\n",
    "Output: true"
   ]
  },
  {
   "cell_type": "code",
   "execution_count": null,
   "metadata": {},
   "outputs": [],
   "source": [
    "class Solution:\n",
    "    def isPalindrome(self, s: str) -> bool:\n",
    "        newstr = ''\n",
    "        for c in s:\n",
    "            if c.isalnum():\n",
    "                newstr += c.lower()\n",
    "        return newstr == newstr[::-1]"
   ]
  },
  {
   "cell_type": "markdown",
   "metadata": {},
   "source": [
    "Best Time to Buy and Sell Stock\n",
    "Solved \n",
    "You are given an integer array prices where prices[i] is the price of NeetCoin on the ith day.\n",
    "\n",
    "You may choose a single day to buy one NeetCoin and choose a different day in the future to sell it.\n",
    "\n",
    "Return the maximum profit you can achieve. You may choose to not make any transactions, in which case the profit would be 0.\n",
    "\n",
    "Example 1:\n",
    "\n",
    "Input: prices = [10,1,5,6,7,1]\n",
    "\n",
    "Output: 6"
   ]
  },
  {
   "cell_type": "code",
   "execution_count": null,
   "metadata": {},
   "outputs": [],
   "source": [
    "class Solution:\n",
    "    def maxProfit(self, prices: List[int]) -> int:\n",
    "\n",
    "        # brute force set O(n sq), O(n sq)\n",
    "        # n = len(prices)\n",
    "        # if n ==1:\n",
    "        #     return 0\n",
    "        # max_profit = set()\n",
    "        # for i in range(n):\n",
    "        #     for j in range(i+1, n):\n",
    "        #         profit = prices[j]-prices[i]\n",
    "        #         max_profit.add(profit)\n",
    "\n",
    "        # if max(max_profit)>0:\n",
    "        #     return max(max_profit)\n",
    "        # else:\n",
    "        #     return 0\n",
    "\n",
    "        # brute recursion without set O(n sq), O(1)\n",
    "        # res = 0\n",
    "        # for i in range(len(prices)):\n",
    "        #     buy = prices[i]\n",
    "        #     for j in range(i+1,len(prices)):\n",
    "        #         sell = prices[j]\n",
    "        #         res = max(res,sell-buy)\n",
    "        # return res\n",
    "\n",
    "        # two pointer sliding window \n",
    "        \n",
    "\n",
    "\n",
    "\n"
   ]
  },
  {
   "cell_type": "markdown",
   "metadata": {},
   "source": [
    "Binary Search\n",
    "Solved \n",
    "You are given an array of distinct integers nums, sorted in ascending order, and an integer target.\n",
    "\n",
    "Implement a function to search for target within nums. If it exists, then return its index, otherwise, return -1.\n",
    "\n",
    "Your solution must run in \n",
    "O\n",
    "(\n",
    "l\n",
    "o\n",
    "g\n",
    "n\n",
    ")\n",
    "O(logn) time.\n",
    "\n",
    "Example 1:\n",
    "\n",
    "Input: nums = [-1,0,2,4,6,8], target = 4\n",
    "\n",
    "Output: 3"
   ]
  },
  {
   "cell_type": "code",
   "execution_count": null,
   "metadata": {},
   "outputs": [],
   "source": [
    "class Solution:\n",
    "    def search(self, nums: List[int], target: int) -> int:\n",
    "        s = 0\n",
    "        e = len(nums)-1\n",
    "        while s<=e:\n",
    "            m = (s+e) //2\n",
    "            if target > nums[m]:\n",
    "                s = m+1\n",
    "            \n",
    "            elif target < nums[m]:\n",
    "                e = m-1\n",
    "            \n",
    "            if target == nums[m]:\n",
    "                return m\n",
    "        return -1"
   ]
  }
 ],
 "metadata": {
  "language_info": {
   "name": "python"
  }
 },
 "nbformat": 4,
 "nbformat_minor": 2
}
